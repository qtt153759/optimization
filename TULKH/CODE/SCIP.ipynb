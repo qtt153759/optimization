{
 "cells": [
  {
   "cell_type": "code",
   "execution_count": 1,
   "metadata": {},
   "outputs": [],
   "source": [
    "from ortools.linear_solver import pywraplp\n",
    "solver = pywraplp.Solver.CreateSolver('SCIP')"
   ]
  },
  {
   "cell_type": "code",
   "execution_count": 2,
   "metadata": {},
   "outputs": [],
   "source": [
    "with open (\"./input_6_3_1.txt\") as f:\n",
    "    text = f.readlines()\n",
    "\n",
    "n = int(text[0][:-1])\n",
    "\n",
    "d = (\"1 \" + text[1][:-1]).split(\" \")\n",
    "\n",
    "d = [int(a) for a in d]\n",
    "\n",
    "m = int(text[2][:-1])\n",
    "\n",
    "c = (\"1 \" + text[3][:-1]).split(\" \")\n",
    "\n",
    "c = [int(a) for a in c]\n",
    "\n",
    "s=[]\n",
    "\n",
    "for i in range(5, len(text)):\n",
    "    tmp = text[i].split(' ')\n",
    "    tmp = [int(a) for a in tmp]\n",
    "    s.append(tmp)"
   ]
  },
  {
   "cell_type": "code",
   "execution_count": 3,
   "metadata": {},
   "outputs": [],
   "source": [
    "solver = pywraplp.Solver.CreateSolver('SCIP')"
   ]
  },
  {
   "cell_type": "code",
   "execution_count": 4,
   "metadata": {},
   "outputs": [],
   "source": [
    "data = {}\n",
    "data['n'] = n\n",
    "data['m'] = m"
   ]
  },
  {
   "cell_type": "code",
   "execution_count": 5,
   "metadata": {},
   "outputs": [
    {
     "name": "stdout",
     "output_type": "stream",
     "text": [
      "n= 6  m= 3\n",
      "Number of variables = 61\n"
     ]
    }
   ],
   "source": [
    "infinity = solver.infinity()\n",
    "\n",
    "\n",
    "print(\"n=\", n, \" m=\", m)\n",
    "\n",
    "p = {}\n",
    "\n",
    "for i in range(1, data['n'] + 1):\n",
    "    for j in range(1, data['n'] + 1):\n",
    "        p[str(i) + \",\" + str(j)] = solver.IntVar(0, 1, \"p[\" + str(i) + \",\" + str(j) + \"]\")\n",
    "\n",
    "x = {}\n",
    "\n",
    "for i in range(1, data['n'] + 1):\n",
    "    x[str(i)] = solver.IntVar(1, n, \"x[\" + str(i) + \"]\")\n",
    "\n",
    "k = solver.IntVar(0, n, \"k\")\n",
    "\n",
    "mm = {}\n",
    "\n",
    "for i in range(1, data['n'] + 1):\n",
    "    for j in range(1, data['m'] + 1):\n",
    "        mm[str(i) + \",\" + str(j)] = solver.IntVar(0, 1, \"mm[\" + str(i) + \",\" + str(j) + \"]\")\n",
    "\n",
    "print('Number of variables =', solver.NumVariables())"
   ]
  },
  {
   "cell_type": "code",
   "execution_count": 6,
   "metadata": {},
   "outputs": [
    {
     "name": "stdout",
     "output_type": "stream",
     "text": [
      "Number of constraints = 678\n"
     ]
    }
   ],
   "source": [
    "for i in range(1, data['n'] + 1):\n",
    "    solver.Add(solver.Sum(p[str(i) + \",\" + str(j)]*j for j in range(1, data['n'] + 1)) == x[str(i)])\n",
    "    solver.Add(solver.Sum(p[str(i) + \",\" + str(j)] for j in range(1, data['n'] + 1)) == 1)\n",
    "\n",
    "for i in range(1, data['n'] + 1):\n",
    "    cons2 = solver.Constraint(0, solver.infinity())\n",
    "    cons2.SetCoefficient(k, 1)\n",
    "    cons2.SetCoefficient(x[str(i)], -1)\n",
    "\n",
    "for t in s:\n",
    "    for l in range(1, data['n'] + 1):\n",
    "        cons1 = solver.Constraint(0, 1)\n",
    "        cons1.SetCoefficient(p[str(t[0]) + \",\" + str(l)], 1)\n",
    "        cons1.SetCoefficient(p[str(t[1]) + \",\" + str(l)], 1)\n",
    "\n",
    "for i in range(1, data['n'] + 1):\n",
    "    cons3 = solver.Constraint(d[i], solver.infinity())\n",
    "    for j in range(1, data['m'] + 1):\n",
    "        cons3.SetCoefficient(mm[str(i) + \",\" + str(j)], c[j])\n",
    "\n",
    "for xx in range(1, data['n'] + 1):\n",
    "    for yy in range(1, data['m'] + 1):\n",
    "        for ii in range(1, data['n'] + 1):\n",
    "            for jj in range(1, data['n'] + 1):\n",
    "                cons4 = solver.Constraint(0, 3)\n",
    "                cons4.SetCoefficient(p[str(ii) + \",\" + str(xx)],1)\n",
    "                cons4.SetCoefficient(mm[str(ii) + \",\" + str(yy)],1)\n",
    "                cons4.SetCoefficient(p[str(jj) + \",\" + str(xx)],1)\n",
    "                cons4.SetCoefficient(mm[str(jj) + \",\" + str(yy)],1)\n",
    "\n",
    "print('Number of constraints =', solver.NumConstraints())"
   ]
  },
  {
   "cell_type": "code",
   "execution_count": 7,
   "metadata": {},
   "outputs": [
    {
     "name": "stdout",
     "output_type": "stream",
     "text": [
      "Solution : \n",
      "Objective value =  2.999999999999999\n",
      "[1.0, 1.0, 3.0, 2.0, 3.0, 3.0]\n"
     ]
    }
   ],
   "source": [
    "solver.Minimize(k)\n",
    "\n",
    "status = solver.Solve()\n",
    "\n",
    "if status == pywraplp.Solver.OPTIMAL :\n",
    "    print(\"Solution : \")\n",
    "    print('Objective value = ', solver.Objective().Value())\n",
    "    sol =[]\n",
    "    for i in range(1, data['n'] + 1):\n",
    "        sol.append(x[str(i)].solution_value())\n",
    "\n",
    "\n",
    "    print(sol)\n",
    "else :\n",
    "    print(\"No solution\")"
   ]
  }
 ],
 "metadata": {
  "kernelspec": {
   "display_name": "Python 3.10.0 64-bit ('3.10.0')",
   "language": "python",
   "name": "python3"
  },
  "language_info": {
   "codemirror_mode": {
    "name": "ipython",
    "version": 3
   },
   "file_extension": ".py",
   "mimetype": "text/x-python",
   "name": "python",
   "nbconvert_exporter": "python",
   "pygments_lexer": "ipython3",
   "version": "3.10.0"
  },
  "orig_nbformat": 4,
  "vscode": {
   "interpreter": {
    "hash": "b8f5e6dbafc3f32b3a868221259f1ba3d16a85ec06781a4eaee62f116786a2f1"
   }
  }
 },
 "nbformat": 4,
 "nbformat_minor": 2
}
