{
 "cells": [
  {
   "cell_type": "code",
   "execution_count": 1,
   "metadata": {},
   "outputs": [],
   "source": [
    "import numpy as np\n",
    "import random\n",
    "import matplotlib.pyplot as plt\n",
    "from tqdm import tqdm"
   ]
  },
  {
   "cell_type": "code",
   "execution_count": 2,
   "metadata": {},
   "outputs": [],
   "source": [
    "f = open(\"TestCase/50_50_8_12.txt\")\n",
    "fa = f.readlines()\n",
    "tmp = fa[0].split()\n",
    "N = int(tmp[0])\n",
    "D = int(tmp[1])\n",
    "a = int(tmp[2])\n",
    "b = int(tmp[3])\n",
    "day_off = np.zeros([N,D], dtype = int)\n",
    "for i in range(1,len(fa)) :\n",
    "    tmp = fa[i].split()\n",
    "    for j in range(len(tmp) - 1) :\n",
    "        m = int(tmp[j])\n",
    "        day_off[i-1,m-1] = 1"
   ]
  },
  {
   "cell_type": "code",
   "execution_count": 3,
   "metadata": {},
   "outputs": [],
   "source": [
    "class Individual :\n",
    "    def __init__ (self, sol) :\n",
    "        self.sol = sol\n",
    "        self.fitness, bug = Fitness(sol)\n",
    "        self.bug = bug"
   ]
  },
  {
   "cell_type": "code",
   "execution_count": 4,
   "metadata": {},
   "outputs": [],
   "source": [
    "pop_size = 200\n",
    "generation = 150"
   ]
  },
  {
   "cell_type": "code",
   "execution_count": 5,
   "metadata": {},
   "outputs": [],
   "source": [
    "def hybrid (parent1 : Individual, parent2 : Individual)  :\n",
    "    sol1 = np.zeros([N,D+1], dtype = int)\n",
    "    sol2 = np.zeros([N,D+1], dtype = int)\n",
    "    x = random.randint(0,D)\n",
    "    for i in range(0,N) :\n",
    "        for j in range(D) :\n",
    "            if j <= x :\n",
    "                sol1[i,j] = parent1.sol[i,j]\n",
    "                sol2[i,j] = parent2.sol[i,j]\n",
    "            else :\n",
    "                sol1[i,j] = parent2.sol[i,j]\n",
    "                sol2[i,j] = parent1.sol[i,j]\n",
    "    child1 = Individual(sol1)\n",
    "    child2 = Individual(sol2)\n",
    "    return child1, child2"
   ]
  },
  {
   "cell_type": "code",
   "execution_count": 6,
   "metadata": {},
   "outputs": [],
   "source": [
    "def mutate (parent : Individual) :\n",
    "    sol = np.copy(parent.sol)\n",
    "    for j in range(D) :\n",
    "        if random.random() < max(0.1, 1/D) :\n",
    "            i1 = random.randint(0,N-1)\n",
    "            i2 = random.randint(0,N-1)\n",
    "            while (sol[i2,j] == 0 and day_off[i1,j] == 1) or (sol[i1,j] == 0 and day_off[i2,j] == 1) or (sol[i2,j] == sol[i1,j]) :\n",
    "                i1 = random.randint(0,N-1)\n",
    "                i2 = random.randint(0,N-1)\n",
    "            sol[i1,j], sol[i2,j] = sol[i2,j], sol[i1,j]\n",
    "    child = Individual(sol)\n",
    "    return child"
   ]
  },
  {
   "cell_type": "code",
   "execution_count": 7,
   "metadata": {},
   "outputs": [],
   "source": [
    "def Fitness (sol) :\n",
    "    bug = []\n",
    "    constraint_day_off = 0\n",
    "    for i in range(N) :\n",
    "        for j in range(1, D) :\n",
    "            if sol[i,j-1] == 4 and sol[i,j] > 0 :\n",
    "                constraint_day_off += 1\n",
    "                bug.append([i,j-1])\n",
    "    num_night = np.zeros(N, dtype=int)\n",
    "    for i in range(N) :\n",
    "        for j in range(D) :\n",
    "            if sol[i,j] == 4 :\n",
    "                num_night[i] += 1\n",
    "    max_night = max(num_night)\n",
    "    return (100*constraint_day_off + max_night) , bug"
   ]
  },
  {
   "cell_type": "code",
   "execution_count": 8,
   "metadata": {},
   "outputs": [],
   "source": [
    "def Local_Search (inv : Individual) -> Individual :\n",
    "    sol = np.copy(inv.sol)\n",
    "    if inv.fitness < 100 :\n",
    "        num_night = np.zeros(N)\n",
    "        for i in range(N) :\n",
    "            for j in range(D) :\n",
    "                if sol[i,j] == 4 : \n",
    "                    num_night[i] += 1\n",
    "        i_1 = np.argmax(num_night)\n",
    "        done = False\n",
    "        shuffle_N = list(np.random.permutation(N))\n",
    "        for i in shuffle_N :\n",
    "            if num_night[i_1] > num_night[i] + 1 :\n",
    "                shuffle_D = list(np.random.permutation(D))\n",
    "                for j in shuffle_D :\n",
    "                    if sol[i_1, j] == 4 and sol[i,j] < 4 and day_off[i,j] == 0 :\n",
    "                        if j < D-1 and sol[i,j+1] == 0 :\n",
    "                            sol[i_1, j], sol[i,j] = sol[i,j], sol[i_1, j]\n",
    "                            done = True\n",
    "                            break\n",
    "                        if j == D-1 :\n",
    "                            sol[i_1, j], sol[i,j] = sol[i,j], sol[i_1, j]\n",
    "                            done = True\n",
    "                            break\n",
    "            if done == True :\n",
    "                break\n",
    "        new_inv = Individual(sol)\n",
    "        return new_inv\n",
    "                            \n",
    "    bug = inv.bug\n",
    "    t = random.choice(bug)\n",
    "\n",
    "    i_1 = t[0]\n",
    "    j_1 = t[1]\n",
    "    done = False\n",
    "\n",
    "    for i in range(N) :\n",
    "        if sol[i,j_1] < 4 and sol[i,j_1 + 1] == 0 and day_off[i,j_1] == 0 :\n",
    "            sol[i,j_1], sol[i_1,j_1] = 4, sol[i,j_1]\n",
    "            done = True\n",
    "            break\n",
    "    if done == False :\n",
    "        for i in range(N) :\n",
    "            if sol[i,j_1 + 1] == 0 and day_off[i,j_1+1] == 0 and sol[i,j_1] < 4 :\n",
    "                sol[i,j_1 + 1], sol[i_1, j_1 +1] = sol[i_1, j_1 +1], sol[i,j_1 + 1]\n",
    "\n",
    "    new_inv = Individual(sol)\n",
    "    return new_inv\n"
   ]
  },
  {
   "cell_type": "code",
   "execution_count": 9,
   "metadata": {},
   "outputs": [],
   "source": [
    "population = []\n",
    "for l in range(pop_size) :\n",
    "    sol = np.zeros([N,D+1], dtype = int)\n",
    "    for i in range(D) :\n",
    "        candidate = []\n",
    "        back_up = []\n",
    "        for j in range(N) :\n",
    "            if i > 0 :\n",
    "                if day_off[j,i] == 0 and sol[j, i-1] < 4 :\n",
    "                    candidate.append(j)\n",
    "                if day_off[j,i] == 0 and sol[j, i-1] == 4 :\n",
    "                    back_up.append(j)\n",
    "            else :\n",
    "                if day_off[j,i] == 0 :\n",
    "                    candidate.append(j)\n",
    "        random.shuffle(candidate)\n",
    "        random.shuffle(back_up)\n",
    "        if len(candidate) < 4*a :\n",
    "            for j in range(4*a - len(candidate)) :\n",
    "                candidate.append(back_up[j])\n",
    "        random.shuffle(candidate)\n",
    "        for j in range(3*a) :\n",
    "            sol[candidate[j],i] = 1\n",
    "        for j in range(3*a, 4*a ) :\n",
    "            sol[candidate[j],i] = 4\n",
    "    inv = Individual(sol)\n",
    "    population.append(inv)\n",
    "        "
   ]
  },
  {
   "cell_type": "code",
   "execution_count": 10,
   "metadata": {},
   "outputs": [],
   "source": [
    "def return_Fitness (inv) :\n",
    "    return inv.fitness"
   ]
  },
  {
   "cell_type": "code",
   "execution_count": 11,
   "metadata": {},
   "outputs": [
    {
     "name": "stderr",
     "output_type": "stream",
     "text": [
      "100%|██████████| 150/150 [02:40<00:00,  1.07s/it]\n"
     ]
    }
   ],
   "source": [
    "record = []\n",
    "# generation = 2\n",
    "for i in tqdm(range(generation)) :\n",
    "    offspring = []\n",
    "    for inv in population :\n",
    "        new_inv = Local_Search(inv)\n",
    "        offspring.append(new_inv)\n",
    "    population.clear()\n",
    "    population += offspring\n",
    "    random.shuffle(population)\n",
    "    for j in range(int(pop_size/2)) :\n",
    "        p1 = j\n",
    "        p2 = j + int(pop_size/2)\n",
    "        parent1 = population[p1]\n",
    "        parent2 = population[p2]\n",
    "        if random.random() < 0.8 :\n",
    "            child1, child2 = hybrid (parent1, parent2)\n",
    "        else :\n",
    "            child1 = mutate (parent1)\n",
    "            child2 = mutate (parent2)\n",
    "        population.append(child1)\n",
    "        population.append(child2)\n",
    "    population.sort(key = return_Fitness, reverse=False)\n",
    "    del population[pop_size:len(population)]\n",
    "    record.append(population[0].fitness)"
   ]
  },
  {
   "cell_type": "code",
   "execution_count": 12,
   "metadata": {},
   "outputs": [
    {
     "data": {
      "image/png": "[encoded data removed]",
      "text/plain": [
       "<Figure size 432x288 with 1 Axes>"
      ]
     },
     "metadata": {
      "needs_background": "light"
     },
     "output_type": "display_data"
    }
   ],
   "source": [
    "plt.plot(record)\n",
    "plt.show()"
   ]
  },
  {
   "cell_type": "code",
   "execution_count": 13,
   "metadata": {},
   "outputs": [
    {
     "name": "stdout",
     "output_type": "stream",
     "text": [
      "Result :  8\n",
      "Number of constraint violation : 0\n"
     ]
    }
   ],
   "source": [
    "print(\"Result : \", record[len(record) - 1] % 100)\n",
    "print(\"Number of constraint violation :\", int(record[len(record) - 1] / 100))"
   ]
  }
 ],
 "metadata": {
  "kernelspec": {
   "display_name": "Python 3.10.5 64-bit (windows store)",
   "language": "python",
   "name": "python3"
  },
  "language_info": {
   "codemirror_mode": {
    "name": "ipython",
    "version": 3
   },
   "file_extension": ".py",
   "mimetype": "text/x-python",
   "name": "python",
   "nbconvert_exporter": "python",
   "pygments_lexer": "ipython3",
   "version": "3.10.5"
  },
  "orig_nbformat": 4,
  "vscode": {
   "interpreter": {
    "hash": "76d70db784540673ff8721e4afe8e7ac8816e4741037d0eed66b88ac9b617eab"
   }
  }
 },
 "nbformat": 4,
 "nbformat_minor": 2
}
