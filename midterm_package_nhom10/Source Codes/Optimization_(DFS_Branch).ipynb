{
  "nbformat": 4,
  "nbformat_minor": 0,
  "metadata": {
    "colab": {
      "name": "Optimization (DFS-Branch).ipynb",
      "provenance": [],
      "collapsed_sections": []
    },
    "kernelspec": {
      "name": "python3",
      "display_name": "Python 3"
    },
    "language_info": {
      "name": "python"
    }
  },
  "cells": [
    {
      "cell_type": "code",
      "source": [
        "from google.colab import drive\n",
        "drive.mount('/content/drive')"
      ],
      "metadata": {
        "colab": {
          "base_uri": "https://localhost:8080/"
        },
        "id": "PPyl_KWl70Cr",
        "outputId": "d132e5ea-b026-4805-b09d-8f7a000ba33a"
      },
      "execution_count": 1,
      "outputs": [
        {
          "output_type": "stream",
          "name": "stdout",
          "text": [
            "Mounted at /content/drive\n"
          ]
        }
      ]
    },
    {
      "cell_type": "code",
      "execution_count": 2,
      "metadata": {
        "id": "bYpJ5gNV1KaG"
      },
      "outputs": [],
      "source": [
        "import json\n",
        "def dump_json(test_data,output_json_name=None):\n",
        "    if output_json_name is not None:\n",
        "            with open(output_json_name, \"w\",encoding='utf8') as output_file:\n",
        "                json.dump(test_data,output_file,ensure_ascii=False)\n",
        "\n",
        "def get_json(path):\n",
        "    with open(path,\"r\", encoding='utf8') as f:\n",
        "        data=json.load(f)\n",
        "    return data"
      ]
    },
    {
      "cell_type": "code",
      "source": [
        "import itertools\n",
        "\n",
        "def findcomb(s,n):\n",
        "    return itertools.combinations(s,n)\n",
        "\n",
        "def findper(s,n):\n",
        "    return itertools.permutations(s,n)\n",
        "\n",
        "def checkd(d):\n",
        "    subs = findper(range(len(d)),3)\n",
        "    for a,b,c in subs:\n",
        "        # print(a,b,c)\n",
        "        if d[a][b]>d[b][c]+d[c][a]:\n",
        "            return False\n",
        "    return True"
      ],
      "metadata": {
        "id": "9gjKp8rx1S07"
      },
      "execution_count": 3,
      "outputs": []
    },
    {
      "cell_type": "code",
      "source": [
        "# data = get_json('/content/drive/MyDrive/Academic/IT4663/6_28_impossible_data.json')\n",
        "data = get_json('/content/drive/MyDrive/Academic/IT4663/6_26_new_data.json')+\\\n",
        "        get_json('/content/drive/MyDrive/Academic/IT4663/6_28_impossible_data.json')"
      ],
      "metadata": {
        "id": "6egUofu41PyK"
      },
      "execution_count": 4,
      "outputs": []
    },
    {
      "cell_type": "code",
      "source": [
        "import time\n",
        "from tqdm.auto import tqdm\n",
        "\n",
        "min_val = 1e9\n",
        "min_path=0\n",
        "\n",
        "def satisfy(path,itloc,item2take):\n",
        "    for i in range(1,len(item2take)):\n",
        "        total = sum([itloc[i][s] for s in path if s!=0])\n",
        "        if total<item2take[i]:\n",
        "            return False\n",
        "    return True\n",
        "\n",
        "def calc_path(path,d):\n",
        "    return sum([d[path[i]][path[i+1]] for i in range(len(path)-1)])\n",
        "\n",
        "def dfs_branch(dt,lim=300,cut=True):\n",
        "    st_time=time.time()\n",
        "    n,m,itloc = dt['n'],dt['m'],dt['itloc'] # num item, num shelves, itloc -> [item, shelve]\n",
        "    d,itemavail,item2take = dt['d'],dt['itemavail'],dt['item2take']\n",
        "    global min_path\n",
        "    global min_val\n",
        "    min_path = list(range(0,m+1))+[0]\n",
        "    min_val = calc_path(min_path,d)\n",
        "    min_d = min([i for y in d for i in y if i>0])\n",
        "    visited = []\n",
        "    queue = []  \n",
        "    \n",
        "    tmp_min, tmp_path = visit([],set(),itloc,item2take,d,\n",
        "                            min_val,min_path,st_time,lim,min_d,cut)\n",
        "    min_val=tmp_min\n",
        "    min_path=[0]+tmp_path+[0]\n",
        "    \n",
        "    return min_val, min_path, time.time()-st_time\n",
        "\n",
        "def visit(path,visited,itloc,item2take,d,\n",
        "          prev_min,prev_min_path,st_time,lim,min_d,cut):\n",
        "    global min_path\n",
        "    global min_val\n",
        "    # if time.time()-st_time>lim:\n",
        "    #     return min_val,min_path\n",
        "    if cut:\n",
        "        if calc_path([0]+path,d)+min_d>=min_val:\n",
        "            return min_val, min_path\n",
        "    if satisfy(path,itloc,item2take):            \n",
        "        tmp_min = calc_path([0]+path+[0],d)\n",
        "        if tmp_min<min_val:\n",
        "            min_val=tmp_min\n",
        "            min_path=path\n",
        "            print(min_val)\n",
        "    # next = max(1,path[-1])\n",
        "    for j in range(1,len(d)):\n",
        "        if j not in visited:\n",
        "            tmp_min, tmp_path = visit(path+[j],visited.union({j}),itloc,item2take,d,\n",
        "                                        min_val,min_path,st_time,lim,min_d,cut)\n",
        "            if tmp_min<min_val:\n",
        "                min_val = tmp_min\n",
        "                min_path= tmp_path\n",
        "    return min_val, min_path"
      ],
      "metadata": {
        "id": "EWQzaDAf1VYP"
      },
      "execution_count": 59,
      "outputs": []
    },
    {
      "cell_type": "code",
      "source": [
        "import sys\n",
        "sys.setrecursionlimit(3500)\n",
        "solutions = []\n",
        "for i in range(len(data)):\n",
        "    # DFS\n",
        "    sol = dfs_branch(data[i],3600,False)\n",
        "    # DFS - branch&bound\n",
        "    sol = dfs_branch(data[i],3600,True)\n",
        "    solutions.append(sol)\n",
        "    print(sol)\n",
        "    print(data[i]['optimal_value'])\n",
        "    dump_json(solutions,'/content/drive/MyDrive/Academic/IT4663/Results/dfs.json')"
      ],
      "metadata": {
        "id": "MzxxAwRI37Tc"
      },
      "execution_count": 61,
      "outputs": []
    },
    {
      "cell_type": "code",
      "source": [
        "len(solutions)"
      ],
      "metadata": {
        "colab": {
          "base_uri": "https://localhost:8080/"
        },
        "id": "ck4NJP_nPrpX",
        "outputId": "34d02a10-42af-4895-8d10-cbc15ed63ddf"
      },
      "execution_count": null,
      "outputs": [
        {
          "output_type": "execute_result",
          "data": {
            "text/plain": [
              "22"
            ]
          },
          "metadata": {},
          "execution_count": 8
        }
      ]
    }
  ]
}